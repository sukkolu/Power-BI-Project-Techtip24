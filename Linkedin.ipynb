{
 "cells": [
  {
   "cell_type": "markdown",
   "metadata": {},
   "source": [
    "##### Import pandas"
   ]
  },
  {
   "cell_type": "code",
   "execution_count": 131,
   "metadata": {},
   "outputs": [],
   "source": [
    "import pandas as pd"
   ]
  },
  {
   "cell_type": "markdown",
   "metadata": {},
   "source": [
    "##### Load the data"
   ]
  },
  {
   "cell_type": "code",
   "execution_count": 132,
   "metadata": {},
   "outputs": [],
   "source": [
    "df = pd.read_csv(\"C:/Users/vinod/OneDrive/Desktop/LinkedIn_Jobs_Data_India.csv\")"
   ]
  },
  {
   "cell_type": "markdown",
   "metadata": {},
   "source": [
    "##### Display the few row of the dataframe"
   ]
  },
  {
   "cell_type": "code",
   "execution_count": 133,
   "metadata": {},
   "outputs": [
    {
     "data": {
      "text/html": [
       "<div>\n",
       "<style scoped>\n",
       "    .dataframe tbody tr th:only-of-type {\n",
       "        vertical-align: middle;\n",
       "    }\n",
       "\n",
       "    .dataframe tbody tr th {\n",
       "        vertical-align: top;\n",
       "    }\n",
       "\n",
       "    .dataframe thead th {\n",
       "        text-align: right;\n",
       "    }\n",
       "</style>\n",
       "<table border=\"1\" class=\"dataframe\">\n",
       "  <thead>\n",
       "    <tr style=\"text-align: right;\">\n",
       "      <th></th>\n",
       "      <th>Unnamed: 0</th>\n",
       "      <th>id</th>\n",
       "      <th>publishedAt</th>\n",
       "      <th>title</th>\n",
       "      <th>companyName</th>\n",
       "      <th>postedTime</th>\n",
       "      <th>applicationsCount</th>\n",
       "      <th>description</th>\n",
       "      <th>contractType</th>\n",
       "      <th>experienceLevel</th>\n",
       "      <th>workType</th>\n",
       "      <th>sector</th>\n",
       "      <th>companyId</th>\n",
       "      <th>city</th>\n",
       "      <th>state</th>\n",
       "      <th>recently_posted_jobs</th>\n",
       "    </tr>\n",
       "  </thead>\n",
       "  <tbody>\n",
       "    <tr>\n",
       "      <th>0</th>\n",
       "      <td>0</td>\n",
       "      <td>3800928381</td>\n",
       "      <td>2024-01-09</td>\n",
       "      <td>Front-end Engineer/Web Developer (SDE 1 &amp;amp; 2)</td>\n",
       "      <td>BOX8</td>\n",
       "      <td>3 weeks ago</td>\n",
       "      <td>85.0</td>\n",
       "      <td>Skill: html5 , ajax , oop , git , postgresql ,...</td>\n",
       "      <td>Full-time</td>\n",
       "      <td>Entry level</td>\n",
       "      <td>Engineering and Information Technology</td>\n",
       "      <td>Staffing and Recruiting</td>\n",
       "      <td>3479477</td>\n",
       "      <td>Bengaluru</td>\n",
       "      <td>Karnataka</td>\n",
       "      <td>No</td>\n",
       "    </tr>\n",
       "    <tr>\n",
       "      <th>1</th>\n",
       "      <td>1</td>\n",
       "      <td>3800929078</td>\n",
       "      <td>2024-01-09</td>\n",
       "      <td>Android Developer-SDE 1 &amp;amp; 2(Software Devel...</td>\n",
       "      <td>BOX8</td>\n",
       "      <td>3 weeks ago</td>\n",
       "      <td>80.0</td>\n",
       "      <td>Skill: algorithms , rest , github , css , html...</td>\n",
       "      <td>Full-time</td>\n",
       "      <td>Entry level</td>\n",
       "      <td>Engineering and Information Technology</td>\n",
       "      <td>Staffing and Recruiting</td>\n",
       "      <td>3479477</td>\n",
       "      <td>Bengaluru</td>\n",
       "      <td>Karnataka</td>\n",
       "      <td>No</td>\n",
       "    </tr>\n",
       "    <tr>\n",
       "      <th>2</th>\n",
       "      <td>2</td>\n",
       "      <td>3792399495</td>\n",
       "      <td>2023-12-27</td>\n",
       "      <td>Web Developer</td>\n",
       "      <td>Mahe Technologies Private Limited</td>\n",
       "      <td>1 month ago</td>\n",
       "      <td>75.0</td>\n",
       "      <td>The ideal candidate is a creative problem solv...</td>\n",
       "      <td>Full-time</td>\n",
       "      <td>Executive</td>\n",
       "      <td>Engineering and Information Technology</td>\n",
       "      <td>Information Technology &amp; Services</td>\n",
       "      <td>14387125</td>\n",
       "      <td>Greater Kolkata Area</td>\n",
       "      <td>NaN</td>\n",
       "      <td>No</td>\n",
       "    </tr>\n",
       "    <tr>\n",
       "      <th>3</th>\n",
       "      <td>3</td>\n",
       "      <td>3792604197</td>\n",
       "      <td>2023-12-27</td>\n",
       "      <td>Web Developer</td>\n",
       "      <td>Mahe Technologies Private Limited</td>\n",
       "      <td>1 month ago</td>\n",
       "      <td>52.0</td>\n",
       "      <td>The ideal candidate is a creative problem solv...</td>\n",
       "      <td>Full-time</td>\n",
       "      <td>Executive</td>\n",
       "      <td>Engineering and Information Technology</td>\n",
       "      <td>Information Technology &amp; Services</td>\n",
       "      <td>14387125</td>\n",
       "      <td>Greater Kolkata Area</td>\n",
       "      <td>NaN</td>\n",
       "      <td>No</td>\n",
       "    </tr>\n",
       "    <tr>\n",
       "      <th>4</th>\n",
       "      <td>4</td>\n",
       "      <td>3808399427</td>\n",
       "      <td>2024-01-23</td>\n",
       "      <td>Software Engineer</td>\n",
       "      <td>Microsoft</td>\n",
       "      <td>1 week ago</td>\n",
       "      <td>26.0</td>\n",
       "      <td>Do you have a passion for security? Do you lik...</td>\n",
       "      <td>Full-time</td>\n",
       "      <td>Not Applicable</td>\n",
       "      <td>Engineering and Information Technology</td>\n",
       "      <td>Software Development</td>\n",
       "      <td>1035</td>\n",
       "      <td>Hyderabad</td>\n",
       "      <td>Telangana</td>\n",
       "      <td>Yes</td>\n",
       "    </tr>\n",
       "  </tbody>\n",
       "</table>\n",
       "</div>"
      ],
      "text/plain": [
       "   Unnamed: 0          id publishedAt  \\\n",
       "0           0  3800928381  2024-01-09   \n",
       "1           1  3800929078  2024-01-09   \n",
       "2           2  3792399495  2023-12-27   \n",
       "3           3  3792604197  2023-12-27   \n",
       "4           4  3808399427  2024-01-23   \n",
       "\n",
       "                                               title  \\\n",
       "0   Front-end Engineer/Web Developer (SDE 1 &amp; 2)   \n",
       "1  Android Developer-SDE 1 &amp; 2(Software Devel...   \n",
       "2                                      Web Developer   \n",
       "3                                      Web Developer   \n",
       "4                                  Software Engineer   \n",
       "\n",
       "                         companyName   postedTime  applicationsCount  \\\n",
       "0                               BOX8  3 weeks ago               85.0   \n",
       "1                               BOX8  3 weeks ago               80.0   \n",
       "2  Mahe Technologies Private Limited  1 month ago               75.0   \n",
       "3  Mahe Technologies Private Limited  1 month ago               52.0   \n",
       "4                          Microsoft   1 week ago               26.0   \n",
       "\n",
       "                                         description contractType  \\\n",
       "0  Skill: html5 , ajax , oop , git , postgresql ,...    Full-time   \n",
       "1  Skill: algorithms , rest , github , css , html...    Full-time   \n",
       "2  The ideal candidate is a creative problem solv...    Full-time   \n",
       "3  The ideal candidate is a creative problem solv...    Full-time   \n",
       "4  Do you have a passion for security? Do you lik...    Full-time   \n",
       "\n",
       "  experienceLevel                                workType  \\\n",
       "0     Entry level  Engineering and Information Technology   \n",
       "1     Entry level  Engineering and Information Technology   \n",
       "2       Executive  Engineering and Information Technology   \n",
       "3       Executive  Engineering and Information Technology   \n",
       "4  Not Applicable  Engineering and Information Technology   \n",
       "\n",
       "                              sector  companyId                  city  \\\n",
       "0            Staffing and Recruiting    3479477             Bengaluru   \n",
       "1            Staffing and Recruiting    3479477             Bengaluru   \n",
       "2  Information Technology & Services   14387125  Greater Kolkata Area   \n",
       "3  Information Technology & Services   14387125  Greater Kolkata Area   \n",
       "4               Software Development       1035             Hyderabad   \n",
       "\n",
       "       state recently_posted_jobs  \n",
       "0  Karnataka                   No  \n",
       "1  Karnataka                   No  \n",
       "2        NaN                   No  \n",
       "3        NaN                   No  \n",
       "4  Telangana                  Yes  "
      ]
     },
     "execution_count": 133,
     "metadata": {},
     "output_type": "execute_result"
    }
   ],
   "source": [
    "df.head()"
   ]
  },
  {
   "cell_type": "markdown",
   "metadata": {},
   "source": [
    "##### Display the basic information about dataframe"
   ]
  },
  {
   "cell_type": "code",
   "execution_count": 134,
   "metadata": {},
   "outputs": [
    {
     "name": "stdout",
     "output_type": "stream",
     "text": [
      "<class 'pandas.core.frame.DataFrame'>\n",
      "RangeIndex: 949 entries, 0 to 948\n",
      "Data columns (total 16 columns):\n",
      " #   Column                Non-Null Count  Dtype  \n",
      "---  ------                --------------  -----  \n",
      " 0   Unnamed: 0            949 non-null    int64  \n",
      " 1   id                    949 non-null    int64  \n",
      " 2   publishedAt           857 non-null    object \n",
      " 3   title                 949 non-null    object \n",
      " 4   companyName           949 non-null    object \n",
      " 5   postedTime            949 non-null    object \n",
      " 6   applicationsCount     949 non-null    float64\n",
      " 7   description           949 non-null    object \n",
      " 8   contractType          860 non-null    object \n",
      " 9   experienceLevel       949 non-null    object \n",
      " 10  workType              860 non-null    object \n",
      " 11  sector                860 non-null    object \n",
      " 12  companyId             949 non-null    int64  \n",
      " 13  city                  949 non-null    object \n",
      " 14  state                 871 non-null    object \n",
      " 15  recently_posted_jobs  949 non-null    object \n",
      "dtypes: float64(1), int64(3), object(12)\n",
      "memory usage: 118.8+ KB\n"
     ]
    }
   ],
   "source": [
    "df.info()"
   ]
  },
  {
   "cell_type": "markdown",
   "metadata": {},
   "source": [
    "##### Check for missing values"
   ]
  },
  {
   "cell_type": "code",
   "execution_count": 135,
   "metadata": {},
   "outputs": [
    {
     "data": {
      "text/plain": [
       "Unnamed: 0               0\n",
       "id                       0\n",
       "publishedAt             92\n",
       "title                    0\n",
       "companyName              0\n",
       "postedTime               0\n",
       "applicationsCount        0\n",
       "description              0\n",
       "contractType            89\n",
       "experienceLevel          0\n",
       "workType                89\n",
       "sector                  89\n",
       "companyId                0\n",
       "city                     0\n",
       "state                   78\n",
       "recently_posted_jobs     0\n",
       "dtype: int64"
      ]
     },
     "execution_count": 135,
     "metadata": {},
     "output_type": "execute_result"
    }
   ],
   "source": [
    "df.isnull().sum()"
   ]
  },
  {
   "cell_type": "markdown",
   "metadata": {},
   "source": [
    "##### Drop rows with the missing values"
   ]
  },
  {
   "cell_type": "code",
   "execution_count": 136,
   "metadata": {},
   "outputs": [],
   "source": [
    "df_cleaned = df.dropna()"
   ]
  },
  {
   "cell_type": "markdown",
   "metadata": {},
   "source": [
    "##### Check for missing values again"
   ]
  },
  {
   "cell_type": "code",
   "execution_count": 137,
   "metadata": {},
   "outputs": [
    {
     "data": {
      "text/plain": [
       "Unnamed: 0              0\n",
       "id                      0\n",
       "publishedAt             0\n",
       "title                   0\n",
       "companyName             0\n",
       "postedTime              0\n",
       "applicationsCount       0\n",
       "description             0\n",
       "contractType            0\n",
       "experienceLevel         0\n",
       "workType                0\n",
       "sector                  0\n",
       "companyId               0\n",
       "city                    0\n",
       "state                   0\n",
       "recently_posted_jobs    0\n",
       "dtype: int64"
      ]
     },
     "execution_count": 137,
     "metadata": {},
     "output_type": "execute_result"
    }
   ],
   "source": [
    "df_cleaned.isnull().sum()"
   ]
  },
  {
   "cell_type": "markdown",
   "metadata": {},
   "source": [
    "##### Check for the duplicates rows"
   ]
  },
  {
   "cell_type": "code",
   "execution_count": 138,
   "metadata": {},
   "outputs": [
    {
     "data": {
      "text/plain": [
       "0"
      ]
     },
     "execution_count": 138,
     "metadata": {},
     "output_type": "execute_result"
    }
   ],
   "source": [
    "df_cleaned.duplicated().sum()"
   ]
  },
  {
   "cell_type": "markdown",
   "metadata": {},
   "source": [
    "##### Remove duplicates rows"
   ]
  },
  {
   "cell_type": "code",
   "execution_count": 139,
   "metadata": {},
   "outputs": [],
   "source": [
    "df_cleaned = df_cleaned.drop_duplicates()"
   ]
  },
  {
   "cell_type": "markdown",
   "metadata": {},
   "source": [
    "##### Check for the duplicates rows again"
   ]
  },
  {
   "cell_type": "code",
   "execution_count": 140,
   "metadata": {},
   "outputs": [
    {
     "data": {
      "text/plain": [
       "0"
      ]
     },
     "execution_count": 140,
     "metadata": {},
     "output_type": "execute_result"
    }
   ],
   "source": [
    "df_cleaned.duplicated().sum()"
   ]
  },
  {
   "cell_type": "markdown",
   "metadata": {},
   "source": [
    "##### Check data types"
   ]
  },
  {
   "cell_type": "code",
   "execution_count": 141,
   "metadata": {},
   "outputs": [
    {
     "data": {
      "text/plain": [
       "Unnamed: 0                int64\n",
       "id                        int64\n",
       "publishedAt              object\n",
       "title                    object\n",
       "companyName              object\n",
       "postedTime               object\n",
       "applicationsCount       float64\n",
       "description              object\n",
       "contractType             object\n",
       "experienceLevel          object\n",
       "workType                 object\n",
       "sector                   object\n",
       "companyId                 int64\n",
       "city                     object\n",
       "state                    object\n",
       "recently_posted_jobs     object\n",
       "dtype: object"
      ]
     },
     "execution_count": 141,
     "metadata": {},
     "output_type": "execute_result"
    }
   ],
   "source": [
    "df_cleaned.dtypes"
   ]
  },
  {
   "cell_type": "markdown",
   "metadata": {},
   "source": [
    "##### Dropping unnecessary columns in a dataframe"
   ]
  },
  {
   "cell_type": "code",
   "execution_count": 142,
   "metadata": {},
   "outputs": [],
   "source": [
    "df_cleaned = df_cleaned.drop(columns=[\"Unnamed: 0\", \"postedTime\"])"
   ]
  },
  {
   "cell_type": "markdown",
   "metadata": {},
   "source": [
    "##### Convert date columns to datetime"
   ]
  },
  {
   "cell_type": "code",
   "execution_count": 143,
   "metadata": {},
   "outputs": [],
   "source": [
    "df_cleaned['publishedAt'] = pd.to_datetime(df_cleaned['publishedAt'])\n"
   ]
  },
  {
   "cell_type": "markdown",
   "metadata": {},
   "source": [
    "##### Renaming columns"
   ]
  },
  {
   "cell_type": "code",
   "execution_count": 144,
   "metadata": {},
   "outputs": [
    {
     "data": {
      "text/html": [
       "<div>\n",
       "<style scoped>\n",
       "    .dataframe tbody tr th:only-of-type {\n",
       "        vertical-align: middle;\n",
       "    }\n",
       "\n",
       "    .dataframe tbody tr th {\n",
       "        vertical-align: top;\n",
       "    }\n",
       "\n",
       "    .dataframe thead th {\n",
       "        text-align: right;\n",
       "    }\n",
       "</style>\n",
       "<table border=\"1\" class=\"dataframe\">\n",
       "  <thead>\n",
       "    <tr style=\"text-align: right;\">\n",
       "      <th></th>\n",
       "      <th>id</th>\n",
       "      <th>Date</th>\n",
       "      <th>Job_Title</th>\n",
       "      <th>companyName</th>\n",
       "      <th>applicationsCount</th>\n",
       "      <th>description</th>\n",
       "      <th>contractType</th>\n",
       "      <th>experienceLevel</th>\n",
       "      <th>workType</th>\n",
       "      <th>sector</th>\n",
       "      <th>companyId</th>\n",
       "      <th>city</th>\n",
       "      <th>state</th>\n",
       "      <th>recently_posted_jobs</th>\n",
       "    </tr>\n",
       "  </thead>\n",
       "  <tbody>\n",
       "    <tr>\n",
       "      <th>0</th>\n",
       "      <td>3800928381</td>\n",
       "      <td>2024-01-09</td>\n",
       "      <td>Front-end Engineer/Web Developer (SDE 1 &amp;amp; 2)</td>\n",
       "      <td>BOX8</td>\n",
       "      <td>85.0</td>\n",
       "      <td>Skill: html5 , ajax , oop , git , postgresql ,...</td>\n",
       "      <td>Full-time</td>\n",
       "      <td>Entry level</td>\n",
       "      <td>Engineering and Information Technology</td>\n",
       "      <td>Staffing and Recruiting</td>\n",
       "      <td>3479477</td>\n",
       "      <td>Bengaluru</td>\n",
       "      <td>Karnataka</td>\n",
       "      <td>No</td>\n",
       "    </tr>\n",
       "    <tr>\n",
       "      <th>1</th>\n",
       "      <td>3800929078</td>\n",
       "      <td>2024-01-09</td>\n",
       "      <td>Android Developer-SDE 1 &amp;amp; 2(Software Devel...</td>\n",
       "      <td>BOX8</td>\n",
       "      <td>80.0</td>\n",
       "      <td>Skill: algorithms , rest , github , css , html...</td>\n",
       "      <td>Full-time</td>\n",
       "      <td>Entry level</td>\n",
       "      <td>Engineering and Information Technology</td>\n",
       "      <td>Staffing and Recruiting</td>\n",
       "      <td>3479477</td>\n",
       "      <td>Bengaluru</td>\n",
       "      <td>Karnataka</td>\n",
       "      <td>No</td>\n",
       "    </tr>\n",
       "    <tr>\n",
       "      <th>4</th>\n",
       "      <td>3808399427</td>\n",
       "      <td>2024-01-23</td>\n",
       "      <td>Software Engineer</td>\n",
       "      <td>Microsoft</td>\n",
       "      <td>26.0</td>\n",
       "      <td>Do you have a passion for security? Do you lik...</td>\n",
       "      <td>Full-time</td>\n",
       "      <td>Not Applicable</td>\n",
       "      <td>Engineering and Information Technology</td>\n",
       "      <td>Software Development</td>\n",
       "      <td>1035</td>\n",
       "      <td>Hyderabad</td>\n",
       "      <td>Telangana</td>\n",
       "      <td>Yes</td>\n",
       "    </tr>\n",
       "    <tr>\n",
       "      <th>5</th>\n",
       "      <td>3803684281</td>\n",
       "      <td>2024-01-17</td>\n",
       "      <td>Software Engineer</td>\n",
       "      <td>Microsoft</td>\n",
       "      <td>200.0</td>\n",
       "      <td>Microsoft Endpoint Manager (MEM) Is An Integra...</td>\n",
       "      <td>Full-time</td>\n",
       "      <td>Not Applicable</td>\n",
       "      <td>Engineering and Information Technology</td>\n",
       "      <td>Software Development</td>\n",
       "      <td>1035</td>\n",
       "      <td>Noida</td>\n",
       "      <td>Uttar Pradesh</td>\n",
       "      <td>No</td>\n",
       "    </tr>\n",
       "    <tr>\n",
       "      <th>7</th>\n",
       "      <td>3792934769</td>\n",
       "      <td>2024-01-27</td>\n",
       "      <td>Software Engineer, Systems Infrastructure</td>\n",
       "      <td>LinkedIn</td>\n",
       "      <td>200.0</td>\n",
       "      <td>LinkedIn is the world’s largest professional n...</td>\n",
       "      <td>Full-time</td>\n",
       "      <td>Not Applicable</td>\n",
       "      <td>Engineering</td>\n",
       "      <td>IT Services and IT Consulting and Technology, ...</td>\n",
       "      <td>1337</td>\n",
       "      <td>Bengaluru</td>\n",
       "      <td>Karnataka</td>\n",
       "      <td>Yes</td>\n",
       "    </tr>\n",
       "    <tr>\n",
       "      <th>...</th>\n",
       "      <td>...</td>\n",
       "      <td>...</td>\n",
       "      <td>...</td>\n",
       "      <td>...</td>\n",
       "      <td>...</td>\n",
       "      <td>...</td>\n",
       "      <td>...</td>\n",
       "      <td>...</td>\n",
       "      <td>...</td>\n",
       "      <td>...</td>\n",
       "      <td>...</td>\n",
       "      <td>...</td>\n",
       "      <td>...</td>\n",
       "      <td>...</td>\n",
       "    </tr>\n",
       "    <tr>\n",
       "      <th>944</th>\n",
       "      <td>3811057159</td>\n",
       "      <td>2024-01-22</td>\n",
       "      <td>Production Engineer - Injection Molding</td>\n",
       "      <td>SKF India</td>\n",
       "      <td>87.0</td>\n",
       "      <td>About SKF\\n\\n\\n\\nSKF started its operations in...</td>\n",
       "      <td>Full-time</td>\n",
       "      <td>Associate</td>\n",
       "      <td>Production and Manufacturing</td>\n",
       "      <td>Motor Vehicle Parts Manufacturing, Automation ...</td>\n",
       "      <td>1804161</td>\n",
       "      <td>Mysuru</td>\n",
       "      <td>Karnataka</td>\n",
       "      <td>Yes</td>\n",
       "    </tr>\n",
       "    <tr>\n",
       "      <th>945</th>\n",
       "      <td>3791640836</td>\n",
       "      <td>2023-12-25</td>\n",
       "      <td>Mechanical Engineering</td>\n",
       "      <td>Ample Leap</td>\n",
       "      <td>49.0</td>\n",
       "      <td>Job Location: Pan India\\n\\nEducation: B. Tech ...</td>\n",
       "      <td>Full-time</td>\n",
       "      <td>Executive</td>\n",
       "      <td>Engineering and Information Technology</td>\n",
       "      <td>Business Consulting and Services</td>\n",
       "      <td>3706977</td>\n",
       "      <td>Mathura</td>\n",
       "      <td>Uttar Pradesh</td>\n",
       "      <td>No</td>\n",
       "    </tr>\n",
       "    <tr>\n",
       "      <th>946</th>\n",
       "      <td>3781388877</td>\n",
       "      <td>2023-12-10</td>\n",
       "      <td>Mechanical Design Engineer</td>\n",
       "      <td>Vijaya Enterprises</td>\n",
       "      <td>39.0</td>\n",
       "      <td>Job Description\\n\\n\\n * Resolve Issues related...</td>\n",
       "      <td>Full-time</td>\n",
       "      <td>Entry level</td>\n",
       "      <td>Engineering and Information Technology</td>\n",
       "      <td>Staffing and Recruiting</td>\n",
       "      <td>2313856</td>\n",
       "      <td>Navi Mumbai</td>\n",
       "      <td>Maharashtra</td>\n",
       "      <td>No</td>\n",
       "    </tr>\n",
       "    <tr>\n",
       "      <th>947</th>\n",
       "      <td>3792393497</td>\n",
       "      <td>2023-12-02</td>\n",
       "      <td>Mechanical Engineer</td>\n",
       "      <td>GVR TECHNOLABS PRIVATE LIMITED</td>\n",
       "      <td>59.0</td>\n",
       "      <td>Job Summary\\n\\nGVR Technolabs Pvt Ltd, an Info...</td>\n",
       "      <td>Full-time</td>\n",
       "      <td>Entry level</td>\n",
       "      <td>Engineering and Information Technology</td>\n",
       "      <td>Information Technology &amp; Services</td>\n",
       "      <td>27956264</td>\n",
       "      <td>Visakhapatnam</td>\n",
       "      <td>Andhra Pradesh</td>\n",
       "      <td>No</td>\n",
       "    </tr>\n",
       "    <tr>\n",
       "      <th>948</th>\n",
       "      <td>3795525413</td>\n",
       "      <td>2024-01-20</td>\n",
       "      <td>Piping Engineer</td>\n",
       "      <td>Infosys</td>\n",
       "      <td>93.0</td>\n",
       "      <td>Primary skills: Piping Engineering, CAD, CATIA...</td>\n",
       "      <td>Full-time</td>\n",
       "      <td>Entry level</td>\n",
       "      <td>Engineering and Information Technology</td>\n",
       "      <td>IT Services and IT Consulting</td>\n",
       "      <td>1283</td>\n",
       "      <td>Bengaluru East</td>\n",
       "      <td>Karnataka</td>\n",
       "      <td>Yes</td>\n",
       "    </tr>\n",
       "  </tbody>\n",
       "</table>\n",
       "<p>726 rows × 14 columns</p>\n",
       "</div>"
      ],
      "text/plain": [
       "             id       Date                                          Job_Title  \\\n",
       "0    3800928381 2024-01-09   Front-end Engineer/Web Developer (SDE 1 &amp; 2)   \n",
       "1    3800929078 2024-01-09  Android Developer-SDE 1 &amp; 2(Software Devel...   \n",
       "4    3808399427 2024-01-23                                  Software Engineer   \n",
       "5    3803684281 2024-01-17                                  Software Engineer   \n",
       "7    3792934769 2024-01-27          Software Engineer, Systems Infrastructure   \n",
       "..          ...        ...                                                ...   \n",
       "944  3811057159 2024-01-22            Production Engineer - Injection Molding   \n",
       "945  3791640836 2023-12-25                             Mechanical Engineering   \n",
       "946  3781388877 2023-12-10                         Mechanical Design Engineer   \n",
       "947  3792393497 2023-12-02                                Mechanical Engineer   \n",
       "948  3795525413 2024-01-20                                    Piping Engineer   \n",
       "\n",
       "                        companyName  applicationsCount  \\\n",
       "0                              BOX8               85.0   \n",
       "1                              BOX8               80.0   \n",
       "4                         Microsoft               26.0   \n",
       "5                         Microsoft              200.0   \n",
       "7                          LinkedIn              200.0   \n",
       "..                              ...                ...   \n",
       "944                       SKF India               87.0   \n",
       "945                      Ample Leap               49.0   \n",
       "946              Vijaya Enterprises               39.0   \n",
       "947  GVR TECHNOLABS PRIVATE LIMITED               59.0   \n",
       "948                         Infosys               93.0   \n",
       "\n",
       "                                           description contractType  \\\n",
       "0    Skill: html5 , ajax , oop , git , postgresql ,...    Full-time   \n",
       "1    Skill: algorithms , rest , github , css , html...    Full-time   \n",
       "4    Do you have a passion for security? Do you lik...    Full-time   \n",
       "5    Microsoft Endpoint Manager (MEM) Is An Integra...    Full-time   \n",
       "7    LinkedIn is the world’s largest professional n...    Full-time   \n",
       "..                                                 ...          ...   \n",
       "944  About SKF\\n\\n\\n\\nSKF started its operations in...    Full-time   \n",
       "945  Job Location: Pan India\\n\\nEducation: B. Tech ...    Full-time   \n",
       "946  Job Description\\n\\n\\n * Resolve Issues related...    Full-time   \n",
       "947  Job Summary\\n\\nGVR Technolabs Pvt Ltd, an Info...    Full-time   \n",
       "948  Primary skills: Piping Engineering, CAD, CATIA...    Full-time   \n",
       "\n",
       "    experienceLevel                                workType  \\\n",
       "0       Entry level  Engineering and Information Technology   \n",
       "1       Entry level  Engineering and Information Technology   \n",
       "4    Not Applicable  Engineering and Information Technology   \n",
       "5    Not Applicable  Engineering and Information Technology   \n",
       "7    Not Applicable                             Engineering   \n",
       "..              ...                                     ...   \n",
       "944       Associate            Production and Manufacturing   \n",
       "945       Executive  Engineering and Information Technology   \n",
       "946     Entry level  Engineering and Information Technology   \n",
       "947     Entry level  Engineering and Information Technology   \n",
       "948     Entry level  Engineering and Information Technology   \n",
       "\n",
       "                                                sector  companyId  \\\n",
       "0                              Staffing and Recruiting    3479477   \n",
       "1                              Staffing and Recruiting    3479477   \n",
       "4                                 Software Development       1035   \n",
       "5                                 Software Development       1035   \n",
       "7    IT Services and IT Consulting and Technology, ...       1337   \n",
       "..                                                 ...        ...   \n",
       "944  Motor Vehicle Parts Manufacturing, Automation ...    1804161   \n",
       "945                   Business Consulting and Services    3706977   \n",
       "946                            Staffing and Recruiting    2313856   \n",
       "947                  Information Technology & Services   27956264   \n",
       "948                      IT Services and IT Consulting       1283   \n",
       "\n",
       "               city           state recently_posted_jobs  \n",
       "0         Bengaluru       Karnataka                   No  \n",
       "1         Bengaluru       Karnataka                   No  \n",
       "4         Hyderabad       Telangana                  Yes  \n",
       "5             Noida   Uttar Pradesh                   No  \n",
       "7         Bengaluru       Karnataka                  Yes  \n",
       "..              ...             ...                  ...  \n",
       "944          Mysuru       Karnataka                  Yes  \n",
       "945         Mathura   Uttar Pradesh                   No  \n",
       "946     Navi Mumbai     Maharashtra                   No  \n",
       "947   Visakhapatnam  Andhra Pradesh                   No  \n",
       "948  Bengaluru East       Karnataka                  Yes  \n",
       "\n",
       "[726 rows x 14 columns]"
      ]
     },
     "execution_count": 144,
     "metadata": {},
     "output_type": "execute_result"
    }
   ],
   "source": [
    "df_cleaned.rename(columns={'publishedAt':'Date','title':'Job_Title'})"
   ]
  },
  {
   "cell_type": "markdown",
   "metadata": {},
   "source": [
    "##### To make Index column"
   ]
  },
  {
   "cell_type": "code",
   "execution_count": 145,
   "metadata": {},
   "outputs": [],
   "source": [
    "df_cleaned['SR NO'] = range(1, len(df_cleaned) + 1)"
   ]
  },
  {
   "cell_type": "markdown",
   "metadata": {},
   "source": [
    "##### View the cleaned data"
   ]
  },
  {
   "cell_type": "code",
   "execution_count": 146,
   "metadata": {},
   "outputs": [
    {
     "data": {
      "text/html": [
       "<div>\n",
       "<style scoped>\n",
       "    .dataframe tbody tr th:only-of-type {\n",
       "        vertical-align: middle;\n",
       "    }\n",
       "\n",
       "    .dataframe tbody tr th {\n",
       "        vertical-align: top;\n",
       "    }\n",
       "\n",
       "    .dataframe thead th {\n",
       "        text-align: right;\n",
       "    }\n",
       "</style>\n",
       "<table border=\"1\" class=\"dataframe\">\n",
       "  <thead>\n",
       "    <tr style=\"text-align: right;\">\n",
       "      <th></th>\n",
       "      <th>id</th>\n",
       "      <th>publishedAt</th>\n",
       "      <th>title</th>\n",
       "      <th>companyName</th>\n",
       "      <th>applicationsCount</th>\n",
       "      <th>description</th>\n",
       "      <th>contractType</th>\n",
       "      <th>experienceLevel</th>\n",
       "      <th>workType</th>\n",
       "      <th>sector</th>\n",
       "      <th>companyId</th>\n",
       "      <th>city</th>\n",
       "      <th>state</th>\n",
       "      <th>recently_posted_jobs</th>\n",
       "      <th>SR NO</th>\n",
       "    </tr>\n",
       "  </thead>\n",
       "  <tbody>\n",
       "    <tr>\n",
       "      <th>0</th>\n",
       "      <td>3800928381</td>\n",
       "      <td>2024-01-09</td>\n",
       "      <td>Front-end Engineer/Web Developer (SDE 1 &amp;amp; 2)</td>\n",
       "      <td>BOX8</td>\n",
       "      <td>85.0</td>\n",
       "      <td>Skill: html5 , ajax , oop , git , postgresql ,...</td>\n",
       "      <td>Full-time</td>\n",
       "      <td>Entry level</td>\n",
       "      <td>Engineering and Information Technology</td>\n",
       "      <td>Staffing and Recruiting</td>\n",
       "      <td>3479477</td>\n",
       "      <td>Bengaluru</td>\n",
       "      <td>Karnataka</td>\n",
       "      <td>No</td>\n",
       "      <td>1</td>\n",
       "    </tr>\n",
       "    <tr>\n",
       "      <th>1</th>\n",
       "      <td>3800929078</td>\n",
       "      <td>2024-01-09</td>\n",
       "      <td>Android Developer-SDE 1 &amp;amp; 2(Software Devel...</td>\n",
       "      <td>BOX8</td>\n",
       "      <td>80.0</td>\n",
       "      <td>Skill: algorithms , rest , github , css , html...</td>\n",
       "      <td>Full-time</td>\n",
       "      <td>Entry level</td>\n",
       "      <td>Engineering and Information Technology</td>\n",
       "      <td>Staffing and Recruiting</td>\n",
       "      <td>3479477</td>\n",
       "      <td>Bengaluru</td>\n",
       "      <td>Karnataka</td>\n",
       "      <td>No</td>\n",
       "      <td>2</td>\n",
       "    </tr>\n",
       "    <tr>\n",
       "      <th>4</th>\n",
       "      <td>3808399427</td>\n",
       "      <td>2024-01-23</td>\n",
       "      <td>Software Engineer</td>\n",
       "      <td>Microsoft</td>\n",
       "      <td>26.0</td>\n",
       "      <td>Do you have a passion for security? Do you lik...</td>\n",
       "      <td>Full-time</td>\n",
       "      <td>Not Applicable</td>\n",
       "      <td>Engineering and Information Technology</td>\n",
       "      <td>Software Development</td>\n",
       "      <td>1035</td>\n",
       "      <td>Hyderabad</td>\n",
       "      <td>Telangana</td>\n",
       "      <td>Yes</td>\n",
       "      <td>3</td>\n",
       "    </tr>\n",
       "    <tr>\n",
       "      <th>5</th>\n",
       "      <td>3803684281</td>\n",
       "      <td>2024-01-17</td>\n",
       "      <td>Software Engineer</td>\n",
       "      <td>Microsoft</td>\n",
       "      <td>200.0</td>\n",
       "      <td>Microsoft Endpoint Manager (MEM) Is An Integra...</td>\n",
       "      <td>Full-time</td>\n",
       "      <td>Not Applicable</td>\n",
       "      <td>Engineering and Information Technology</td>\n",
       "      <td>Software Development</td>\n",
       "      <td>1035</td>\n",
       "      <td>Noida</td>\n",
       "      <td>Uttar Pradesh</td>\n",
       "      <td>No</td>\n",
       "      <td>4</td>\n",
       "    </tr>\n",
       "    <tr>\n",
       "      <th>7</th>\n",
       "      <td>3792934769</td>\n",
       "      <td>2024-01-27</td>\n",
       "      <td>Software Engineer, Systems Infrastructure</td>\n",
       "      <td>LinkedIn</td>\n",
       "      <td>200.0</td>\n",
       "      <td>LinkedIn is the world’s largest professional n...</td>\n",
       "      <td>Full-time</td>\n",
       "      <td>Not Applicable</td>\n",
       "      <td>Engineering</td>\n",
       "      <td>IT Services and IT Consulting and Technology, ...</td>\n",
       "      <td>1337</td>\n",
       "      <td>Bengaluru</td>\n",
       "      <td>Karnataka</td>\n",
       "      <td>Yes</td>\n",
       "      <td>5</td>\n",
       "    </tr>\n",
       "  </tbody>\n",
       "</table>\n",
       "</div>"
      ],
      "text/plain": [
       "           id publishedAt                                              title  \\\n",
       "0  3800928381  2024-01-09   Front-end Engineer/Web Developer (SDE 1 &amp; 2)   \n",
       "1  3800929078  2024-01-09  Android Developer-SDE 1 &amp; 2(Software Devel...   \n",
       "4  3808399427  2024-01-23                                  Software Engineer   \n",
       "5  3803684281  2024-01-17                                  Software Engineer   \n",
       "7  3792934769  2024-01-27          Software Engineer, Systems Infrastructure   \n",
       "\n",
       "  companyName  applicationsCount  \\\n",
       "0        BOX8               85.0   \n",
       "1        BOX8               80.0   \n",
       "4   Microsoft               26.0   \n",
       "5   Microsoft              200.0   \n",
       "7    LinkedIn              200.0   \n",
       "\n",
       "                                         description contractType  \\\n",
       "0  Skill: html5 , ajax , oop , git , postgresql ,...    Full-time   \n",
       "1  Skill: algorithms , rest , github , css , html...    Full-time   \n",
       "4  Do you have a passion for security? Do you lik...    Full-time   \n",
       "5  Microsoft Endpoint Manager (MEM) Is An Integra...    Full-time   \n",
       "7  LinkedIn is the world’s largest professional n...    Full-time   \n",
       "\n",
       "  experienceLevel                                workType  \\\n",
       "0     Entry level  Engineering and Information Technology   \n",
       "1     Entry level  Engineering and Information Technology   \n",
       "4  Not Applicable  Engineering and Information Technology   \n",
       "5  Not Applicable  Engineering and Information Technology   \n",
       "7  Not Applicable                             Engineering   \n",
       "\n",
       "                                              sector  companyId       city  \\\n",
       "0                            Staffing and Recruiting    3479477  Bengaluru   \n",
       "1                            Staffing and Recruiting    3479477  Bengaluru   \n",
       "4                               Software Development       1035  Hyderabad   \n",
       "5                               Software Development       1035      Noida   \n",
       "7  IT Services and IT Consulting and Technology, ...       1337  Bengaluru   \n",
       "\n",
       "           state recently_posted_jobs  SR NO  \n",
       "0      Karnataka                   No      1  \n",
       "1      Karnataka                   No      2  \n",
       "4      Telangana                  Yes      3  \n",
       "5  Uttar Pradesh                   No      4  \n",
       "7      Karnataka                  Yes      5  "
      ]
     },
     "execution_count": 146,
     "metadata": {},
     "output_type": "execute_result"
    }
   ],
   "source": [
    "df_cleaned.head()"
   ]
  },
  {
   "cell_type": "code",
   "execution_count": 148,
   "metadata": {},
   "outputs": [
    {
     "data": {
      "text/plain": [
       "Index(['id', 'publishedAt', 'title', 'companyName', 'applicationsCount',\n",
       "       'description', 'contractType', 'experienceLevel', 'workType', 'sector',\n",
       "       'companyId', 'city', 'state', 'recently_posted_jobs', 'SR NO'],\n",
       "      dtype='object')"
      ]
     },
     "execution_count": 148,
     "metadata": {},
     "output_type": "execute_result"
    }
   ],
   "source": [
    "df_cleaned.columns"
   ]
  },
  {
   "cell_type": "code",
   "execution_count": 149,
   "metadata": {},
   "outputs": [
    {
     "ename": "KeyError",
     "evalue": "('SR NO', 'id', 'publishedAt', 'title', 'companyName', 'applicationsCount', 'description', 'contractType', 'experienceLevel', 'workType', 'sector', 'companyId', 'city', 'state', 'recently_posted_jobs')",
     "output_type": "error",
     "traceback": [
      "\u001b[1;31m---------------------------------------------------------------------------\u001b[0m",
      "\u001b[1;31mKeyError\u001b[0m                                  Traceback (most recent call last)",
      "File \u001b[1;32mk:\\anaconda\\lib\\site-packages\\pandas\\core\\indexes\\base.py:3802\u001b[0m, in \u001b[0;36mIndex.get_loc\u001b[1;34m(self, key, method, tolerance)\u001b[0m\n\u001b[0;32m   3801\u001b[0m \u001b[38;5;28;01mtry\u001b[39;00m:\n\u001b[1;32m-> 3802\u001b[0m     \u001b[38;5;28;01mreturn\u001b[39;00m \u001b[38;5;28;43mself\u001b[39;49m\u001b[38;5;241;43m.\u001b[39;49m\u001b[43m_engine\u001b[49m\u001b[38;5;241;43m.\u001b[39;49m\u001b[43mget_loc\u001b[49m\u001b[43m(\u001b[49m\u001b[43mcasted_key\u001b[49m\u001b[43m)\u001b[49m\n\u001b[0;32m   3803\u001b[0m \u001b[38;5;28;01mexcept\u001b[39;00m \u001b[38;5;167;01mKeyError\u001b[39;00m \u001b[38;5;28;01mas\u001b[39;00m err:\n",
      "File \u001b[1;32mk:\\anaconda\\lib\\site-packages\\pandas\\_libs\\index.pyx:138\u001b[0m, in \u001b[0;36mpandas._libs.index.IndexEngine.get_loc\u001b[1;34m()\u001b[0m\n",
      "File \u001b[1;32mk:\\anaconda\\lib\\site-packages\\pandas\\_libs\\index.pyx:165\u001b[0m, in \u001b[0;36mpandas._libs.index.IndexEngine.get_loc\u001b[1;34m()\u001b[0m\n",
      "File \u001b[1;32mpandas\\_libs\\hashtable_class_helper.pxi:5745\u001b[0m, in \u001b[0;36mpandas._libs.hashtable.PyObjectHashTable.get_item\u001b[1;34m()\u001b[0m\n",
      "File \u001b[1;32mpandas\\_libs\\hashtable_class_helper.pxi:5753\u001b[0m, in \u001b[0;36mpandas._libs.hashtable.PyObjectHashTable.get_item\u001b[1;34m()\u001b[0m\n",
      "\u001b[1;31mKeyError\u001b[0m: ('SR NO', 'id', 'publishedAt', 'title', 'companyName', 'applicationsCount', 'description', 'contractType', 'experienceLevel', 'workType', 'sector', 'companyId', 'city', 'state', 'recently_posted_jobs')",
      "\nThe above exception was the direct cause of the following exception:\n",
      "\u001b[1;31mKeyError\u001b[0m                                  Traceback (most recent call last)",
      "Cell \u001b[1;32mIn[149], line 1\u001b[0m\n\u001b[1;32m----> 1\u001b[0m new_order \u001b[38;5;241m=\u001b[39m \u001b[43mdf_cleaned\u001b[49m\u001b[43m[\u001b[49m\u001b[38;5;124;43m'\u001b[39;49m\u001b[38;5;124;43mSR NO\u001b[39;49m\u001b[38;5;124;43m'\u001b[39;49m\u001b[43m,\u001b[49m\u001b[38;5;124;43m'\u001b[39;49m\u001b[38;5;124;43mid\u001b[39;49m\u001b[38;5;124;43m'\u001b[39;49m\u001b[43m,\u001b[49m\u001b[43m \u001b[49m\u001b[38;5;124;43m'\u001b[39;49m\u001b[38;5;124;43mpublishedAt\u001b[39;49m\u001b[38;5;124;43m'\u001b[39;49m\u001b[43m,\u001b[49m\u001b[43m \u001b[49m\u001b[38;5;124;43m'\u001b[39;49m\u001b[38;5;124;43mtitle\u001b[39;49m\u001b[38;5;124;43m'\u001b[39;49m\u001b[43m,\u001b[49m\u001b[43m \u001b[49m\u001b[38;5;124;43m'\u001b[39;49m\u001b[38;5;124;43mcompanyName\u001b[39;49m\u001b[38;5;124;43m'\u001b[39;49m\u001b[43m,\u001b[49m\u001b[43m \u001b[49m\u001b[38;5;124;43m'\u001b[39;49m\u001b[38;5;124;43mapplicationsCount\u001b[39;49m\u001b[38;5;124;43m'\u001b[39;49m\u001b[43m,\u001b[49m\n\u001b[0;32m      2\u001b[0m \u001b[43m       \u001b[49m\u001b[38;5;124;43m'\u001b[39;49m\u001b[38;5;124;43mdescription\u001b[39;49m\u001b[38;5;124;43m'\u001b[39;49m\u001b[43m,\u001b[49m\u001b[43m \u001b[49m\u001b[38;5;124;43m'\u001b[39;49m\u001b[38;5;124;43mcontractType\u001b[39;49m\u001b[38;5;124;43m'\u001b[39;49m\u001b[43m,\u001b[49m\u001b[43m \u001b[49m\u001b[38;5;124;43m'\u001b[39;49m\u001b[38;5;124;43mexperienceLevel\u001b[39;49m\u001b[38;5;124;43m'\u001b[39;49m\u001b[43m,\u001b[49m\u001b[43m \u001b[49m\u001b[38;5;124;43m'\u001b[39;49m\u001b[38;5;124;43mworkType\u001b[39;49m\u001b[38;5;124;43m'\u001b[39;49m\u001b[43m,\u001b[49m\u001b[43m \u001b[49m\u001b[38;5;124;43m'\u001b[39;49m\u001b[38;5;124;43msector\u001b[39;49m\u001b[38;5;124;43m'\u001b[39;49m\u001b[43m,\u001b[49m\n\u001b[0;32m      3\u001b[0m \u001b[43m       \u001b[49m\u001b[38;5;124;43m'\u001b[39;49m\u001b[38;5;124;43mcompanyId\u001b[39;49m\u001b[38;5;124;43m'\u001b[39;49m\u001b[43m,\u001b[49m\u001b[43m \u001b[49m\u001b[38;5;124;43m'\u001b[39;49m\u001b[38;5;124;43mcity\u001b[39;49m\u001b[38;5;124;43m'\u001b[39;49m\u001b[43m,\u001b[49m\u001b[43m \u001b[49m\u001b[38;5;124;43m'\u001b[39;49m\u001b[38;5;124;43mstate\u001b[39;49m\u001b[38;5;124;43m'\u001b[39;49m\u001b[43m,\u001b[49m\u001b[43m \u001b[49m\u001b[38;5;124;43m'\u001b[39;49m\u001b[38;5;124;43mrecently_posted_jobs\u001b[39;49m\u001b[38;5;124;43m'\u001b[39;49m\u001b[43m]\u001b[49m\n",
      "File \u001b[1;32mk:\\anaconda\\lib\\site-packages\\pandas\\core\\frame.py:3807\u001b[0m, in \u001b[0;36mDataFrame.__getitem__\u001b[1;34m(self, key)\u001b[0m\n\u001b[0;32m   3805\u001b[0m \u001b[38;5;28;01mif\u001b[39;00m \u001b[38;5;28mself\u001b[39m\u001b[38;5;241m.\u001b[39mcolumns\u001b[38;5;241m.\u001b[39mnlevels \u001b[38;5;241m>\u001b[39m \u001b[38;5;241m1\u001b[39m:\n\u001b[0;32m   3806\u001b[0m     \u001b[38;5;28;01mreturn\u001b[39;00m \u001b[38;5;28mself\u001b[39m\u001b[38;5;241m.\u001b[39m_getitem_multilevel(key)\n\u001b[1;32m-> 3807\u001b[0m indexer \u001b[38;5;241m=\u001b[39m \u001b[38;5;28;43mself\u001b[39;49m\u001b[38;5;241;43m.\u001b[39;49m\u001b[43mcolumns\u001b[49m\u001b[38;5;241;43m.\u001b[39;49m\u001b[43mget_loc\u001b[49m\u001b[43m(\u001b[49m\u001b[43mkey\u001b[49m\u001b[43m)\u001b[49m\n\u001b[0;32m   3808\u001b[0m \u001b[38;5;28;01mif\u001b[39;00m is_integer(indexer):\n\u001b[0;32m   3809\u001b[0m     indexer \u001b[38;5;241m=\u001b[39m [indexer]\n",
      "File \u001b[1;32mk:\\anaconda\\lib\\site-packages\\pandas\\core\\indexes\\base.py:3804\u001b[0m, in \u001b[0;36mIndex.get_loc\u001b[1;34m(self, key, method, tolerance)\u001b[0m\n\u001b[0;32m   3802\u001b[0m     \u001b[38;5;28;01mreturn\u001b[39;00m \u001b[38;5;28mself\u001b[39m\u001b[38;5;241m.\u001b[39m_engine\u001b[38;5;241m.\u001b[39mget_loc(casted_key)\n\u001b[0;32m   3803\u001b[0m \u001b[38;5;28;01mexcept\u001b[39;00m \u001b[38;5;167;01mKeyError\u001b[39;00m \u001b[38;5;28;01mas\u001b[39;00m err:\n\u001b[1;32m-> 3804\u001b[0m     \u001b[38;5;28;01mraise\u001b[39;00m \u001b[38;5;167;01mKeyError\u001b[39;00m(key) \u001b[38;5;28;01mfrom\u001b[39;00m \u001b[38;5;21;01merr\u001b[39;00m\n\u001b[0;32m   3805\u001b[0m \u001b[38;5;28;01mexcept\u001b[39;00m \u001b[38;5;167;01mTypeError\u001b[39;00m:\n\u001b[0;32m   3806\u001b[0m     \u001b[38;5;66;03m# If we have a listlike key, _check_indexing_error will raise\u001b[39;00m\n\u001b[0;32m   3807\u001b[0m     \u001b[38;5;66;03m#  InvalidIndexError. Otherwise we fall through and re-raise\u001b[39;00m\n\u001b[0;32m   3808\u001b[0m     \u001b[38;5;66;03m#  the TypeError.\u001b[39;00m\n\u001b[0;32m   3809\u001b[0m     \u001b[38;5;28mself\u001b[39m\u001b[38;5;241m.\u001b[39m_check_indexing_error(key)\n",
      "\u001b[1;31mKeyError\u001b[0m: ('SR NO', 'id', 'publishedAt', 'title', 'companyName', 'applicationsCount', 'description', 'contractType', 'experienceLevel', 'workType', 'sector', 'companyId', 'city', 'state', 'recently_posted_jobs')"
     ]
    }
   ],
   "source": [
    "new_order = df_cleaned['SR NO','id', 'publishedAt', 'title', 'companyName', 'applicationsCount',\n",
    "       'description', 'contractType', 'experienceLevel', 'workType', 'sector',\n",
    "       'companyId', 'city', 'state', 'recently_posted_jobs']"
   ]
  },
  {
   "cell_type": "code",
   "execution_count": null,
   "metadata": {},
   "outputs": [],
   "source": []
  }
 ],
 "metadata": {
  "kernelspec": {
   "display_name": "base",
   "language": "python",
   "name": "python3"
  },
  "language_info": {
   "codemirror_mode": {
    "name": "ipython",
    "version": 3
   },
   "file_extension": ".py",
   "mimetype": "text/x-python",
   "name": "python",
   "nbconvert_exporter": "python",
   "pygments_lexer": "ipython3",
   "version": "3.10.9"
  }
 },
 "nbformat": 4,
 "nbformat_minor": 2
}
